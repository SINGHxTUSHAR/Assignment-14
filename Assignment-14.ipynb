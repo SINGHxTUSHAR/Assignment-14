{
 "cells": [
  {
   "cell_type": "markdown",
   "id": "87cc26fa",
   "metadata": {},
   "source": [
    "Q1. What is an API? Give an example, where an API is used in real life."
   ]
  },
  {
   "cell_type": "markdown",
   "id": "87688be0",
   "metadata": {},
   "source": [
    "An API is the interface that allows two independent software components to exchange information. An API acts as an intermediary between internal software functions and external ones, creating an exchange of information so seamless that it often goes unnoticed by the end user.\n",
    "\n",
    "In practice, an API can be used to connect virtually any processes. Here are a few common examples of APIs:\n",
    "\n",
    "1.Sharing flight information between airlines and travel sites\n",
    "\n",
    "2.Using Google Maps in a rideshare app\n"
   ]
  },
  {
   "cell_type": "code",
   "execution_count": null,
   "id": "d3d5e0bb",
   "metadata": {},
   "outputs": [],
   "source": []
  },
  {
   "cell_type": "markdown",
   "id": "f141c4fc",
   "metadata": {},
   "source": [
    "Q2. Give advantages and disadvantages of using API. "
   ]
  },
  {
   "cell_type": "markdown",
   "id": "ee17bda7",
   "metadata": {},
   "source": [
    "ADVANTAGES :\n",
    "    \n",
    "1.Increased Interoperability: API solutions enable different software systems to communicate with each other, regardless of their programming language or platform. This enhances the interoperability between systems, allowing for the exchange of data and functionality.\n",
    "\n",
    "2.Improved Efficiency: API driven infrastructures enable developers to reuse code and functionality from existing software systems, saving time and reducing the amount of code that needs to be written from scratch.\n",
    "\n",
    "3.Better User Experience: APIs can enable third-party developers to create applications that integrate with existing software systems, providing a better user experience and increased functionality.\n",
    "\n",
    "4.Increased Flexibility: APIs provide developers with greater flexibility, enabling them to choose the best programming languages and frameworks for their needs.\n",
    "\n",
    "5.New Revenue Streams: APIs can enable companies to create new revenue streams by providing third-party developers with access to their software systems."
   ]
  },
  {
   "cell_type": "markdown",
   "id": "f2585264",
   "metadata": {},
   "source": [
    "DISADVANTAGES :\n",
    "    \n",
    "1.Security Concerns: API infrastructures can be vulnerable to security breaches, such as SQL injection attacks and cross-site scripting (XSS) attacks, making it crucial to implement security measures to protect against these threats.\n",
    "\n",
    "2.Complexity: APIs can be complex, requiring a significant amount of development effort to implement and maintain\n",
    "\n",
    "3.Compatibility Issues: APIs can have compatibility issues between different versions of the same software system or between different systems, which can lead to errors and system failures.\n",
    "\n",
    "4.Dependency on Third-Party Developers: APIs rely on third-party developers to create applications that integrate with the software system. This can create dependencies that are outside of the control of the company that owns the software system.\n",
    "\n",
    "5.Governance and Management: APIs require proper governance and management to ensure they are being used correctly and consistently across different applications and systems."
   ]
  },
  {
   "cell_type": "code",
   "execution_count": null,
   "id": "6a67d00f",
   "metadata": {},
   "outputs": [],
   "source": []
  },
  {
   "cell_type": "code",
   "execution_count": null,
   "id": "0255e8bf",
   "metadata": {},
   "outputs": [],
   "source": []
  },
  {
   "cell_type": "markdown",
   "id": "586ea1a8",
   "metadata": {},
   "source": [
    "Q3. What is a Web API? Differentiate between API and Web API."
   ]
  },
  {
   "cell_type": "markdown",
   "id": "832dc64a",
   "metadata": {},
   "source": [
    "Web APIs: API stands for Application Programming Interface. It is a collection of communication conventions and subroutines used by various programs to communicate between them. A developer can utilize different API apparatuses to make its program simpler and less complex. Likewise, an API encourages the developers with a proficient method to build up their product programs. Thus, in simple terms, an API determines how programming segments ought to associate with one another. It is a set of protocols and schedules, and its reactions are returned as JSON or XML in data. APIs can utilize any kind of communication convention and are not restricted similarly as a web service is."
   ]
  },
  {
   "cell_type": "markdown",
   "id": "d0026364",
   "metadata": {},
   "source": [
    "Web Services :\n",
    "\n",
    "1.Web services are a type of API, which must be accessed through a network connection.\n",
    "\n",
    "2.Web service is used for REST, SOAP and XML-RPC for communication\n",
    "\n",
    "3.All Web services are APIs.\n",
    "\n",
    "4.It doesn’t have lightweight design, needs a SOAP convention to send or receive data over the system.\n",
    "\n",
    "5.It provides supports only for the HTTP protocol.\n",
    "\n",
    "6.It is not open source, however, can be devoured by any customer that comprehends xml.\n",
    "\n",
    "7.Web service supports only XML.\n",
    "\n",
    "8.Web Services can be hosted on IIS.\n"
   ]
  },
  {
   "cell_type": "markdown",
   "id": "2fc54603",
   "metadata": {},
   "source": [
    "Web API :\n",
    "\n",
    "1.APIs are application interfaces, implying that one application can communicate with another application in a standardized manner.\n",
    "\n",
    "2.API is used for any style of communication.\n",
    "\n",
    "3.APIs are not web services.\n",
    "\n",
    "4.It has a light-weight architecture furthermore, useful for gadgets which have constrained transmission capacity like smart phones.\n",
    "\n",
    "5.It provides support for the HTTP/s protocol: URL Request/Response Headers, and so on.\n",
    "\n",
    "6.It is an open source and also ships with .NET framework.\n",
    "\n",
    "7.API supports XML and JSON.\n",
    "\n",
    "8.Web API can be hosted only on IIS and self."
   ]
  },
  {
   "cell_type": "code",
   "execution_count": null,
   "id": "cb1bed48",
   "metadata": {},
   "outputs": [],
   "source": []
  },
  {
   "cell_type": "code",
   "execution_count": null,
   "id": "6c5515ae",
   "metadata": {},
   "outputs": [],
   "source": []
  },
  {
   "cell_type": "markdown",
   "id": "9fb60cda",
   "metadata": {},
   "source": [
    "Q4. Explain REST and SOAP Architecture. Mention shortcomings of SOAP."
   ]
  },
  {
   "cell_type": "markdown",
   "id": "f2fb809c",
   "metadata": {},
   "source": [
    "SOAP API :\n",
    "\n",
    "SOAP is a protocol that defines rigid communication rules. It has several associated standards that control every aspect of the data exchange. For example, here are some standards SOAP uses:\n",
    "\n",
    "1.Web Services Security (WS-Security) specifies security measures like using unique identifiers called tokens\n",
    "\n",
    "2.Web Services Addressing (WS-Addressing) requires including routing information as metadata\n",
    "\n",
    "3.WS-ReliableMessaging standardizes error handling in SOAP messaging\n",
    "\n",
    "4.Web Services Description Language (WSDL) describes the scope and function of SOAP web services"
   ]
  },
  {
   "cell_type": "markdown",
   "id": "b8d6c5a5",
   "metadata": {},
   "source": [
    "REST API :\n",
    "\n",
    "REST is a software architectural style that imposes six conditions on how an API should work. These are the six principles REST APIs follow:\n",
    "\n",
    "1.Client-server architecture. The sender and receiver are independent of each other regarding technology, platforming, programming language, and so on.\n",
    "\n",
    "2.Layered. The server can have several intermediaries that work together to complete client requests, but they are invisible to the client.\n",
    "\n",
    "3.Uniform interface. The API returns data in a standard format that is complete and fully useable.\n",
    "Stateless. The API completes every new request independently of previous requests.\n",
    "\n",
    "4.Cacheable. All API responses are cacheable.\n",
    "Code on demand. The API response can include a code snippet if required"
   ]
  },
  {
   "cell_type": "markdown",
   "id": "31a09656",
   "metadata": {},
   "source": [
    "Limitations of Soaps. Soaps do not wash well in hard water and does not form much lather or foam. The calcium magnesium or iron ions of hard water form an insoluble sticky grey coloured precipitate called scum which restricts the cleansing action of soap and makes washing more difficult."
   ]
  },
  {
   "cell_type": "code",
   "execution_count": null,
   "id": "9c0ece24",
   "metadata": {},
   "outputs": [],
   "source": []
  },
  {
   "cell_type": "code",
   "execution_count": null,
   "id": "926c0b34",
   "metadata": {},
   "outputs": [],
   "source": []
  },
  {
   "cell_type": "markdown",
   "id": "03fa2603",
   "metadata": {},
   "source": [
    "Q5. Differentiate between REST and SOAP"
   ]
  },
  {
   "cell_type": "markdown",
   "id": "03544f63",
   "metadata": {},
   "source": [
    "SOAP API :\n",
    "\n",
    "1.Relies on SOAP (Simple Object Access Protocol\n",
    "\n",
    "2.Transports data in standard XML format.\n",
    "\n",
    "3.Because it is XML based and relies on SOAP, it works with WSDL\n",
    "\n",
    "4.Works over HTTP, HTTPS, SMTP, XMPP\n",
    "\n",
    "5.Highly structured/typed\n",
    "\n",
    "6.Designed with large enterprise applications in mind"
   ]
  },
  {
   "cell_type": "markdown",
   "id": "2946ca26",
   "metadata": {},
   "source": [
    "REST API :\n",
    "\n",
    "1.Relies on REST (Representational State Transfer) architecture using HTTP.\n",
    "\n",
    "2.Generally transports data in JSON. It is based on URI. Because REST follows stateless model, REST does not enforces message format as XML or JSON etc.\n",
    "\n",
    "3.It works with GET, POST, PUT, DELETE\n",
    "\n",
    "4.Works over HTTP and HTTPS\n",
    "\n",
    "5.Less structured -> less bulky data\n",
    "\n",
    "6.Designed with mobile devices in mind"
   ]
  },
  {
   "cell_type": "code",
   "execution_count": null,
   "id": "29fab21e",
   "metadata": {},
   "outputs": [],
   "source": []
  },
  {
   "cell_type": "code",
   "execution_count": null,
   "id": "c9edb6d3",
   "metadata": {},
   "outputs": [],
   "source": []
  }
 ],
 "metadata": {
  "kernelspec": {
   "display_name": "Python 3 (ipykernel)",
   "language": "python",
   "name": "python3"
  },
  "language_info": {
   "codemirror_mode": {
    "name": "ipython",
    "version": 3
   },
   "file_extension": ".py",
   "mimetype": "text/x-python",
   "name": "python",
   "nbconvert_exporter": "python",
   "pygments_lexer": "ipython3",
   "version": "3.9.12"
  }
 },
 "nbformat": 4,
 "nbformat_minor": 5
}
